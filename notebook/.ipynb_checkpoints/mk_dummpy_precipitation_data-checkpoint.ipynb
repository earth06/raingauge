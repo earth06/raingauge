{
 "cells": [
  {
   "cell_type": "code",
   "execution_count": 1,
   "id": "aa295da9-f95f-46ec-8c82-8188a5ec2ed5",
   "metadata": {},
   "outputs": [],
   "source": [
    "import pandas as pd\n",
    "import numpy as np\n",
    "import matplotlib.pyplot as plt\n",
    "from sklearn.model_selection import train_test_split"
   ]
  },
  {
   "cell_type": "code",
   "execution_count": 2,
   "id": "9ebeaf80-ff48-43ff-853a-d481567a04aa",
   "metadata": {},
   "outputs": [],
   "source": [
    "precip_days=[5, 7, 9, 10, 17]\n",
    "precip_totals=[3,25,20.5,3.5,4]\n",
    "precip_days=pd.date_range(\"2022-10-01\",\"2022-10-31\",freq=\"D\")[precip_days]\n",
    "sample_list=[]\n",
    "for precip_day,precip_total in zip(precip_days, precip_totals):\n",
    "    datetimes=pd.date_range(precip_day, precip_day+pd.offsets.Hour(23)+pd.offsets.Minute(59), freq=\"5T\")\n",
    "    count_num=int(precip_total*2)\n",
    "    precip_time_index=np.random.choice(np.arange(0,len(datetimes),1), size=count_num, replace=False)\n",
    "    precip_date_times=datetimes[precip_time_index]\n",
    "    dftmp=pd.DataFrame(index=precip_date_times).sort_index()\n",
    "    dftmp[\"rain_count\"]=1\n",
    "    sample_list.append(dftmp)\n",
    "dfsample=pd.concat(sample_list)"
   ]
  },
  {
   "cell_type": "code",
   "execution_count": 3,
   "id": "86b83c72-2e40-49bd-9230-4b6e4d21e383",
   "metadata": {},
   "outputs": [],
   "source": [
    "dfsample[\"date_time\"]=dfsample.index"
   ]
  },
  {
   "cell_type": "code",
   "execution_count": 5,
   "id": "8f4a0d6f-df0d-46d6-94ce-372aba117f3c",
   "metadata": {},
   "outputs": [],
   "source": [
    "dfsample[[\"date_time\",\"rain_count\"]].to_csv(\"../data/precip_sampledata.csv\", index=None)"
   ]
  },
  {
   "cell_type": "code",
   "execution_count": null,
   "id": "63a851f5-3844-4ab3-9d0c-654ea2293faf",
   "metadata": {},
   "outputs": [],
   "source": []
  }
 ],
 "metadata": {
  "kernelspec": {
   "display_name": "Python 3",
   "language": "python",
   "name": "python3"
  },
  "language_info": {
   "codemirror_mode": {
    "name": "ipython",
    "version": 3
   },
   "file_extension": ".py",
   "mimetype": "text/x-python",
   "name": "python",
   "nbconvert_exporter": "python",
   "pygments_lexer": "ipython3",
   "version": "3.9.2"
  }
 },
 "nbformat": 4,
 "nbformat_minor": 5
}
