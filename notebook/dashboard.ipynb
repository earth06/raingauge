{
 "cells": [
  {
   "cell_type": "code",
   "execution_count": 1,
   "id": "f42faa52-c0bc-46cb-b44a-e692649db53c",
   "metadata": {},
   "outputs": [],
   "source": [
    "import plotly.express as px\n",
    "import sqlite3\n",
    "import pandas as pd\n",
    "import matplotlib.pyplot as plt"
   ]
  },
  {
   "cell_type": "code",
   "execution_count": 2,
   "id": "dd34ffba-5b35-444a-b6b4-78f22daf8f5d",
   "metadata": {},
   "outputs": [],
   "source": [
    "from jupyter_dash import JupyterDash\n",
    "from dash import Dash\n",
    "import dash_core_components as dcc\n",
    "import dash_html_components as html\n",
    "from plotly.subplots import make_subplots\n",
    "import plotly.graph_objs as go\n",
    "from dash.dependencies import Input, Output"
   ]
  },
  {
   "cell_type": "code",
   "execution_count": 5,
   "id": "710a9825-79d7-45c3-bb05-0798dc2705f3",
   "metadata": {},
   "outputs": [],
   "source": [
    "import sys\n",
    "sys.path.append(\"../src/\")\n",
    "from raingauge_manager import Raingauge"
   ]
  },
  {
   "cell_type": "code",
   "execution_count": 41,
   "id": "d8aa6f16-af10-4a4d-80a8-869eca6ceb88",
   "metadata": {},
   "outputs": [],
   "source": [
    "raingauge=Raingauge()\n",
    "raingauge.set_db()\n",
    "df_hourly=raingauge.get_precipitation(begin=\"2022-10-08 00:00:00\", end=\"2022-10-10 23:59:59\")\n",
    "df_daily=raingauge.get_precipitation(begin=\"2022-10-01 00:00:00\", end=\"2022-10-31 23:59:59\", freq=\"D\")"
   ]
  },
  {
   "cell_type": "code",
   "execution_count": 56,
   "id": "27a6eef4-b1c7-445d-9857-ae25d4f9136f",
   "metadata": {},
   "outputs": [],
   "source": [
    "datetimes=[t.strftime(\"%Y%m%d\") for t in df_daily.index]\n",
    "app=JupyterDash(__name__)\n",
    "app.layout=html.Div([\n",
    "    html.Div([\n",
    "        html.Div([\n",
    "            dcc.Dropdown(id=\"date-button\",options=[{\"label\":t,\"value\":t} for t in datetimes], value=\"20221014\")\n",
    "        ]),\n",
    "    dcc.Graph(id=\"graph\"),\n",
    "\n",
    "    ])\n",
    "])\n",
    "\n",
    "@app.callback(\n",
    "    Output(\"graph\",\"figure\"),\n",
    "    Input(\"date-button\",\"value\")\n",
    ")\n",
    "def update_figure(date_button):\n",
    "    raingauge=Raingauge()\n",
    "    raingauge.set_db()\n",
    "    df_hourly=raingauge.get_precipitation(begin=\"2022-10-08 00:00:00\", end=\"2022-10-10 23:59:59\")\n",
    "    df_daily=raingauge.get_precipitation(begin=\"2022-10-01 00:00:00\", end=\"2022-10-31 23:59:59\", freq=\"D\")\n",
    "    \n",
    "    fig=make_subplots(rows=2,cols=1,subplot_titles=[\"hourly\",\"daily\"])\n",
    "    fig.add_trace(go.Bar(x=df_hourly.index, y=df_hourly[\"precip_mm\"]),row=1,col=1 )\n",
    "    fig.add_trace(go.Bar(x=df_daily.index, y=df_daily[\"precip_mm\"]), row=2,col=1)\n",
    "    fig.update_layout(\n",
    "        height=700\n",
    "    )\n",
    "    \n",
    "    del raingauge\n",
    "    return fig"
   ]
  },
  {
   "cell_type": "code",
   "execution_count": 1,
   "id": "b86338ee-accd-4495-be45-d3ce5d360bf9",
   "metadata": {},
   "outputs": [],
   "source": [
    "# if __name__==\"__main__\":\n",
    "#     app.run_server(debug=True, mode=\"inline\", port=8999,host=\"localhost\")"
   ]
  },
  {
   "cell_type": "code",
   "execution_count": null,
   "id": "4b3cf2e0-da42-4e56-8ffe-c49f802d7516",
   "metadata": {},
   "outputs": [],
   "source": []
  }
 ],
 "metadata": {
  "kernelspec": {
   "display_name": "Python 3",
   "language": "python",
   "name": "python3"
  },
  "language_info": {
   "codemirror_mode": {
    "name": "ipython",
    "version": 3
   },
   "file_extension": ".py",
   "mimetype": "text/x-python",
   "name": "python",
   "nbconvert_exporter": "python",
   "pygments_lexer": "ipython3",
   "version": "3.9.2"
  }
 },
 "nbformat": 4,
 "nbformat_minor": 5
}
